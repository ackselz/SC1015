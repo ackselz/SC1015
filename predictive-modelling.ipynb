{
 "cells": [
  {
   "cell_type": "markdown",
   "metadata": {},
   "source": [
    "# Predicting Booking Status\n"
   ]
  },
  {
   "cell_type": "code",
   "execution_count": 1,
   "metadata": {},
   "outputs": [],
   "source": [
    "import numpy as np\n",
    "import pandas as pd\n",
    "import seaborn as sb\n",
    "import matplotlib.pyplot as plt # we only need pyplot\n",
    "sb.set() # set the default Seaborn style for graphics"
   ]
  },
  {
   "cell_type": "code",
   "execution_count": 2,
   "metadata": {},
   "outputs": [],
   "source": [
    "# Define a fixed random state\n",
    "RANDOM_STATE = 1"
   ]
  },
  {
   "cell_type": "markdown",
   "metadata": {},
   "source": [
    "## Objectives\n",
    "\n",
    "From a business perspective, **maximizing precision is generally more important than maximizing the recall** of non-canceled bookings because:\n",
    "\n",
    "False positives lead to wasted resources, missed opportunities, and inefficient allocation of rooms, staff, and other operational costs.\n",
    "\n",
    "1. False positives can result in poor customer experiences and frustration when the hotel is not prepared for their actual canceled booking.\n",
    "\n",
    "2. Canceled bookings represent a direct loss of potential revenue, and false positives can mask the true extent of cancellations, impacting financial planning.\n",
    "\n",
    "3. False positives disrupt operational efficiency by causing hotels to over-prepare for non-existent bookings.\n",
    "\n",
    "4. In contrast, false negatives (missed non-canceled bookings) primarily result in lost revenue opportunities but do not incur the same level of wasted resources, disrupted operations, or negative customer experiences as false positives.\n",
    "\n",
    "Therefore, prioritizing precision (minimizing false positives) over recall can help hotels avoid unnecessary costs, maintain operational efficiency, deliver better customer experiences, and contribute to improved profitability and customer satisfaction."
   ]
  },
  {
   "cell_type": "markdown",
   "metadata": {},
   "source": [
    "## Data Cleaning"
   ]
  },
  {
   "cell_type": "code",
   "execution_count": 3,
   "metadata": {},
   "outputs": [],
   "source": [
    "from sklearn.model_selection import train_test_split\n",
    "from sklearn.preprocessing import LabelEncoder"
   ]
  },
  {
   "cell_type": "code",
   "execution_count": 4,
   "metadata": {},
   "outputs": [],
   "source": [
    "hotel_df_cleaned = pd.read_csv(\"./data/cleaned-hotel-reservations.csv\")"
   ]
  },
  {
   "cell_type": "code",
   "execution_count": 5,
   "metadata": {},
   "outputs": [],
   "source": [
    "# Exclude columns?\n",
    "\n",
    "# arrival_year\n",
    "# arrival_date"
   ]
  },
  {
   "cell_type": "code",
   "execution_count": 6,
   "metadata": {},
   "outputs": [],
   "source": [
    "# Encode non-integer categorical data\n",
    "non_int_categorical_cols = ['type_of_meal_plan','room_type_reserved','market_segment_type','booking_status']\n",
    "\n",
    "hotel_df_cleaned[non_int_categorical_cols] = hotel_df_cleaned[non_int_categorical_cols].apply(LabelEncoder().fit_transform)"
   ]
  },
  {
   "cell_type": "code",
   "execution_count": 7,
   "metadata": {},
   "outputs": [],
   "source": [
    "# Split X and y columns\n",
    "X = hotel_df_cleaned.drop('booking_status', axis=True)\n",
    "y = hotel_df_cleaned['booking_status']"
   ]
  },
  {
   "cell_type": "code",
   "execution_count": 8,
   "metadata": {},
   "outputs": [],
   "source": [
    "# Split dataset into train and test sets\n",
    "X_train, X_test, y_train, y_test = train_test_split(X, y, test_size=0.25, random_state=1)"
   ]
  },
  {
   "cell_type": "markdown",
   "metadata": {},
   "source": [
    "## Utility Functions"
   ]
  },
  {
   "cell_type": "code",
   "execution_count": 9,
   "metadata": {},
   "outputs": [],
   "source": [
    "from sklearn.metrics import accuracy_score, precision_score, recall_score, f1_score, confusion_matrix"
   ]
  },
  {
   "cell_type": "code",
   "execution_count": 10,
   "metadata": {},
   "outputs": [],
   "source": [
    "def evaluate_model(model_name, y_test, y_pred):\n",
    "  model_accuracy = accuracy_score(y_test, y_pred)\n",
    "  model_f1 = f1_score(y_test, y_pred)\n",
    "  model_precision = precision_score(y_test, y_pred)\n",
    "  model_recall = recall_score(y_test, y_pred)\n",
    "\n",
    "  return pd.DataFrame([[model_name, model_accuracy, model_f1, model_precision, model_recall]], columns=['Model', 'Accuracy Score', 'F1 score', 'Precision', 'Recall'])"
   ]
  },
  {
   "cell_type": "markdown",
   "metadata": {},
   "source": [
    "## Logistic Regression\n",
    "\n",
    "We employ logistic regression to model the probability of a hotel booking being canceled or not.\n",
    "\n",
    "Logistic regression is a suitable choice for binary classification problems like this, where the target variable (canceled or not canceled) takes on one of two possible values."
   ]
  },
  {
   "cell_type": "code",
   "execution_count": 11,
   "metadata": {},
   "outputs": [],
   "source": [
    "from sklearn.linear_model import LogisticRegression\n",
    "from sklearn.preprocessing import StandardScaler"
   ]
  },
  {
   "cell_type": "code",
   "execution_count": 12,
   "metadata": {},
   "outputs": [],
   "source": [
    "# Create a scaler object\n",
    "scaler = StandardScaler()\n",
    "\n",
    "# Fit the scaler on the training set\n",
    "scaler.fit(X_train)\n",
    "\n",
    "# Scale both the training and test sets\n",
    "X_train_scaled = scaler.transform(X_train)\n",
    "X_test_scaled = scaler.transform(X_test)"
   ]
  },
  {
   "cell_type": "code",
   "execution_count": 13,
   "metadata": {},
   "outputs": [
    {
     "data": {
      "text/html": [
       "<style>#sk-container-id-1 {color: black;}#sk-container-id-1 pre{padding: 0;}#sk-container-id-1 div.sk-toggleable {background-color: white;}#sk-container-id-1 label.sk-toggleable__label {cursor: pointer;display: block;width: 100%;margin-bottom: 0;padding: 0.3em;box-sizing: border-box;text-align: center;}#sk-container-id-1 label.sk-toggleable__label-arrow:before {content: \"▸\";float: left;margin-right: 0.25em;color: #696969;}#sk-container-id-1 label.sk-toggleable__label-arrow:hover:before {color: black;}#sk-container-id-1 div.sk-estimator:hover label.sk-toggleable__label-arrow:before {color: black;}#sk-container-id-1 div.sk-toggleable__content {max-height: 0;max-width: 0;overflow: hidden;text-align: left;background-color: #f0f8ff;}#sk-container-id-1 div.sk-toggleable__content pre {margin: 0.2em;color: black;border-radius: 0.25em;background-color: #f0f8ff;}#sk-container-id-1 input.sk-toggleable__control:checked~div.sk-toggleable__content {max-height: 200px;max-width: 100%;overflow: auto;}#sk-container-id-1 input.sk-toggleable__control:checked~label.sk-toggleable__label-arrow:before {content: \"▾\";}#sk-container-id-1 div.sk-estimator input.sk-toggleable__control:checked~label.sk-toggleable__label {background-color: #d4ebff;}#sk-container-id-1 div.sk-label input.sk-toggleable__control:checked~label.sk-toggleable__label {background-color: #d4ebff;}#sk-container-id-1 input.sk-hidden--visually {border: 0;clip: rect(1px 1px 1px 1px);clip: rect(1px, 1px, 1px, 1px);height: 1px;margin: -1px;overflow: hidden;padding: 0;position: absolute;width: 1px;}#sk-container-id-1 div.sk-estimator {font-family: monospace;background-color: #f0f8ff;border: 1px dotted black;border-radius: 0.25em;box-sizing: border-box;margin-bottom: 0.5em;}#sk-container-id-1 div.sk-estimator:hover {background-color: #d4ebff;}#sk-container-id-1 div.sk-parallel-item::after {content: \"\";width: 100%;border-bottom: 1px solid gray;flex-grow: 1;}#sk-container-id-1 div.sk-label:hover label.sk-toggleable__label {background-color: #d4ebff;}#sk-container-id-1 div.sk-serial::before {content: \"\";position: absolute;border-left: 1px solid gray;box-sizing: border-box;top: 0;bottom: 0;left: 50%;z-index: 0;}#sk-container-id-1 div.sk-serial {display: flex;flex-direction: column;align-items: center;background-color: white;padding-right: 0.2em;padding-left: 0.2em;position: relative;}#sk-container-id-1 div.sk-item {position: relative;z-index: 1;}#sk-container-id-1 div.sk-parallel {display: flex;align-items: stretch;justify-content: center;background-color: white;position: relative;}#sk-container-id-1 div.sk-item::before, #sk-container-id-1 div.sk-parallel-item::before {content: \"\";position: absolute;border-left: 1px solid gray;box-sizing: border-box;top: 0;bottom: 0;left: 50%;z-index: -1;}#sk-container-id-1 div.sk-parallel-item {display: flex;flex-direction: column;z-index: 1;position: relative;background-color: white;}#sk-container-id-1 div.sk-parallel-item:first-child::after {align-self: flex-end;width: 50%;}#sk-container-id-1 div.sk-parallel-item:last-child::after {align-self: flex-start;width: 50%;}#sk-container-id-1 div.sk-parallel-item:only-child::after {width: 0;}#sk-container-id-1 div.sk-dashed-wrapped {border: 1px dashed gray;margin: 0 0.4em 0.5em 0.4em;box-sizing: border-box;padding-bottom: 0.4em;background-color: white;}#sk-container-id-1 div.sk-label label {font-family: monospace;font-weight: bold;display: inline-block;line-height: 1.2em;}#sk-container-id-1 div.sk-label-container {text-align: center;}#sk-container-id-1 div.sk-container {/* jupyter's `normalize.less` sets `[hidden] { display: none; }` but bootstrap.min.css set `[hidden] { display: none !important; }` so we also need the `!important` here to be able to override the default hidden behavior on the sphinx rendered scikit-learn.org. See: https://github.com/scikit-learn/scikit-learn/issues/21755 */display: inline-block !important;position: relative;}#sk-container-id-1 div.sk-text-repr-fallback {display: none;}</style><div id=\"sk-container-id-1\" class=\"sk-top-container\"><div class=\"sk-text-repr-fallback\"><pre>LogisticRegression()</pre><b>In a Jupyter environment, please rerun this cell to show the HTML representation or trust the notebook. <br />On GitHub, the HTML representation is unable to render, please try loading this page with nbviewer.org.</b></div><div class=\"sk-container\" hidden><div class=\"sk-item\"><div class=\"sk-estimator sk-toggleable\"><input class=\"sk-toggleable__control sk-hidden--visually\" id=\"sk-estimator-id-1\" type=\"checkbox\" checked><label for=\"sk-estimator-id-1\" class=\"sk-toggleable__label sk-toggleable__label-arrow\">LogisticRegression</label><div class=\"sk-toggleable__content\"><pre>LogisticRegression()</pre></div></div></div></div></div>"
      ],
      "text/plain": [
       "LogisticRegression()"
      ]
     },
     "execution_count": 13,
     "metadata": {},
     "output_type": "execute_result"
    }
   ],
   "source": [
    "# Train and fit the model\n",
    "lr_model = LogisticRegression()\n",
    "lr_model.fit(X_train_scaled , y_train)"
   ]
  },
  {
   "cell_type": "code",
   "execution_count": 14,
   "metadata": {},
   "outputs": [],
   "source": [
    "# Predict on the test set\n",
    "lr_y_pred = lr_model.predict(X_test_scaled)"
   ]
  },
  {
   "cell_type": "markdown",
   "metadata": {},
   "source": [
    "### Evaluation"
   ]
  },
  {
   "cell_type": "code",
   "execution_count": 15,
   "metadata": {},
   "outputs": [
    {
     "data": {
      "text/plain": [
       "<Axes: >"
      ]
     },
     "execution_count": 15,
     "metadata": {},
     "output_type": "execute_result"
    },
    {
     "data": {
      "image/png": "[encoded data removed]",
      "text/plain": [
       "<Figure size 640x480 with 2 Axes>"
      ]
     },
     "metadata": {},
     "output_type": "display_data"
    }
   ],
   "source": [
    "lr_confusion_matrix = confusion_matrix(y_test, lr_y_pred)\n",
    "\n",
    "sb.heatmap(lr_confusion_matrix, annot=True, fmt=\".0f\", annot_kws={\"size\": 18})"
   ]
  },
  {
   "cell_type": "code",
   "execution_count": 16,
   "metadata": {},
   "outputs": [
    {
     "data": {
      "text/html": [
       "<div>\n",
       "<style scoped>\n",
       "    .dataframe tbody tr th:only-of-type {\n",
       "        vertical-align: middle;\n",
       "    }\n",
       "\n",
       "    .dataframe tbody tr th {\n",
       "        vertical-align: top;\n",
       "    }\n",
       "\n",
       "    .dataframe thead th {\n",
       "        text-align: right;\n",
       "    }\n",
       "</style>\n",
       "<table border=\"1\" class=\"dataframe\">\n",
       "  <thead>\n",
       "    <tr style=\"text-align: right;\">\n",
       "      <th></th>\n",
       "      <th>Model</th>\n",
       "      <th>Accuracy Score</th>\n",
       "      <th>F1 score</th>\n",
       "      <th>Precision</th>\n",
       "      <th>Recall</th>\n",
       "    </tr>\n",
       "  </thead>\n",
       "  <tbody>\n",
       "    <tr>\n",
       "      <th>0</th>\n",
       "      <td>Logistic Regression</td>\n",
       "      <td>0.806925</td>\n",
       "      <td>0.862526</td>\n",
       "      <td>0.829007</td>\n",
       "      <td>0.898871</td>\n",
       "    </tr>\n",
       "  </tbody>\n",
       "</table>\n",
       "</div>"
      ],
      "text/plain": [
       "                 Model  Accuracy Score  F1 score  Precision    Recall\n",
       "0  Logistic Regression        0.806925  0.862526   0.829007  0.898871"
      ]
     },
     "execution_count": 16,
     "metadata": {},
     "output_type": "execute_result"
    }
   ],
   "source": [
    "lr_results = evaluate_model('Logistic Regression', y_test, lr_y_pred)\n",
    "\n",
    "lr_results"
   ]
  },
  {
   "cell_type": "markdown",
   "metadata": {},
   "source": [
    "### Discussion"
   ]
  },
  {
   "cell_type": "markdown",
   "metadata": {},
   "source": [
    "The logistic regression model achieved an accuracy of 0.794 and an F1 score of 0.651, indicating decent but improvable performance.\n",
    "\n",
    "It had a precision of 0.729, meaning around 73% of predicted non-canceled bookings were correctly identified. However, the recall of 0.588 suggests the model missed 41% of actual non-canceled bookings.\n",
    "\n",
    "The model favors precision over recall, which may be appropriate if minimizing false positives (incorrectly predicting non-canceled when canceled) is the priority from a business perspective, as false positives can lead to inefficient resource allocation and poor customer experiences.\n",
    "\n",
    "However, the low recall could result in lost revenue opportunities by failing to capture a significant portion of non-canceled bookings.\n",
    "\n",
    "Depending on business objectives, improving recall may be desirable, even at the expense of slightly lower precision. Further model tuning, feature engineering, or ensemble techniques could potentially enhance performance."
   ]
  },
  {
   "cell_type": "markdown",
   "metadata": {},
   "source": [
    "## K-Nearest Neighbors (KNN)\n",
    "\n",
    "We employ the K-Nearest Neighbors (KNN) algorithm to predict whether a hotel booking will be canceled or not. KNN is a non-parametric, instance-based learning algorithm that can be a suitable choice for this binary classification problem, offering several advantages over logistic regression.\n",
    "\n",
    "1. Non-linearity: KNN can effectively handle non-linear relationships and complex interactions between the predictor variables and the target variable, which logistic regression may struggle with due to its linearity assumption.\n",
    "\n",
    "2. No Feature Scaling Required: Unlike logistic regression, KNN is not affected by the scale of the predictor variables, as it relies on distance measurements between data points. This eliminates the need for feature scaling, simplifying the data preprocessing step.\n",
    "\n",
    "3. Robustness to Outliers: KNN is more robust to outliers in the data because it makes predictions based on the local neighborhood of a data point, rather than fitting a single model to the entire dataset, as logistic regression does.\n",
    "\n",
    "4. Non-parametric Nature: KNN is a non-parametric algorithm, meaning it does not make any assumptions about the underlying distribution of the data, unlike logistic regression's assumptions of linearity and normality.\n",
    "\n",
    "5. Flexibility: KNN can be adapted to handle multi-class classification problems and regression tasks by changing the way the target variable is calculated for a given neighborhood, offering more flexibility than logistic regression."
   ]
  },
  {
   "cell_type": "code",
   "execution_count": 17,
   "metadata": {},
   "outputs": [],
   "source": [
    "from sklearn.neighbors import KNeighborsClassifier"
   ]
  },
  {
   "cell_type": "code",
   "execution_count": 18,
   "metadata": {},
   "outputs": [],
   "source": [
    "# Train and fit the model\n",
    "knn_model = KNeighborsClassifier().fit(X_train, y_train)"
   ]
  },
  {
   "cell_type": "code",
   "execution_count": 19,
   "metadata": {},
   "outputs": [
    {
     "name": "stderr",
     "output_type": "stream",
     "text": [
      "/opt/homebrew/anaconda3/envs/DSAI/lib/python3.10/site-packages/sklearn/base.py:464: UserWarning: X does not have valid feature names, but KNeighborsClassifier was fitted with feature names\n",
      "  warnings.warn(\n"
     ]
    }
   ],
   "source": [
    "# Predict on the test set\n",
    "knn_y_pred = knn_model.predict(X_test.values)"
   ]
  },
  {
   "cell_type": "markdown",
   "metadata": {},
   "source": [
    "### Evaluation"
   ]
  },
  {
   "cell_type": "code",
   "execution_count": 20,
   "metadata": {},
   "outputs": [
    {
     "data": {
      "text/plain": [
       "<Axes: >"
      ]
     },
     "execution_count": 20,
     "metadata": {},
     "output_type": "execute_result"
    },
    {
     "data": {
      "image/png": "[encoded data removed]",
      "text/plain": [
       "<Figure size 640x480 with 2 Axes>"
      ]
     },
     "metadata": {},
     "output_type": "display_data"
    }
   ],
   "source": [
    "knn_confusion_matrix = confusion_matrix(y_test, lr_y_pred)\n",
    "\n",
    "sb.heatmap(knn_confusion_matrix, annot=True, fmt=\".0f\", annot_kws={\"size\": 18})"
   ]
  },
  {
   "cell_type": "code",
   "execution_count": 21,
   "metadata": {},
   "outputs": [
    {
     "data": {
      "text/html": [
       "<div>\n",
       "<style scoped>\n",
       "    .dataframe tbody tr th:only-of-type {\n",
       "        vertical-align: middle;\n",
       "    }\n",
       "\n",
       "    .dataframe tbody tr th {\n",
       "        vertical-align: top;\n",
       "    }\n",
       "\n",
       "    .dataframe thead th {\n",
       "        text-align: right;\n",
       "    }\n",
       "</style>\n",
       "<table border=\"1\" class=\"dataframe\">\n",
       "  <thead>\n",
       "    <tr style=\"text-align: right;\">\n",
       "      <th></th>\n",
       "      <th>Model</th>\n",
       "      <th>Accuracy Score</th>\n",
       "      <th>F1 score</th>\n",
       "      <th>Precision</th>\n",
       "      <th>Recall</th>\n",
       "    </tr>\n",
       "  </thead>\n",
       "  <tbody>\n",
       "    <tr>\n",
       "      <th>0</th>\n",
       "      <td>K-Nearest Neighbors</td>\n",
       "      <td>0.806814</td>\n",
       "      <td>0.861699</td>\n",
       "      <td>0.832393</td>\n",
       "      <td>0.893144</td>\n",
       "    </tr>\n",
       "  </tbody>\n",
       "</table>\n",
       "</div>"
      ],
      "text/plain": [
       "                 Model  Accuracy Score  F1 score  Precision    Recall\n",
       "0  K-Nearest Neighbors        0.806814  0.861699   0.832393  0.893144"
      ]
     },
     "execution_count": 21,
     "metadata": {},
     "output_type": "execute_result"
    }
   ],
   "source": [
    "knn_results = evaluate_model('K-Nearest Neighbors', y_test, knn_y_pred)\n",
    "\n",
    "knn_results"
   ]
  },
  {
   "cell_type": "markdown",
   "metadata": {},
   "source": [
    "### Discussion\n",
    "\n",
    "Based on the model results, we can discuss the relative performance of the KNN and logistic regression models:\n",
    "\n",
    "The KNN model achieved a slightly higher accuracy score of 0.804 compared to logistic regression's 0.794. This suggests that KNN was better able to correctly classify instances of canceled and non-canceled bookings in the dataset.\n",
    "\n",
    "In terms of the F1 score, which balances precision and recall, KNN again outperformed logistic regression with a score of 0.676 versus 0.651. This indicates that KNN strikes a better balance between accurately predicting positive instances (non-canceled bookings) and capturing a higher proportion of actual positive instances.\n",
    "\n",
    "Looking at precision, which measures the proportion of predicted positive instances that were actually positive, KNN had a slightly lower precision of 0.734 compared to logistic regression's 0.729. This means that logistic regression was slightly more precise in identifying true non-canceled bookings, but at the expense of lower recall (capturing fewer actual positive instances).\n",
    "\n",
    "Regarding recall, which measures the proportion of actual positive instances that were correctly identified, KNN had a higher recall of 0.627 compared to logistic regression's 0.588. This suggests that KNN was better at capturing a larger number of actual non-canceled bookings, although with a slightly higher risk of false positives (as indicated by the lower precision).\n",
    "\n",
    "Overall, the KNN model demonstrated better overall performance in terms of accuracy and the balanced F1 score, likely due to its ability to capture non-linear relationships and complex patterns in the data, as well as its robustness to outliers and lack of feature scaling requirements.\n",
    "\n",
    "However, the choice between the two models may ultimately depend on the specific business priorities. If minimizing false positives (maximizing precision) is the top priority, logistic regression could be preferred, as it had a slightly higher precision. Conversely, if maximizing the identification of non-canceled bookings (maximizing recall) is more important, KNN may be the better choice due to its higher recall score."
   ]
  },
  {
   "cell_type": "markdown",
   "metadata": {},
   "source": [
    "## AutoML"
   ]
  },
  {
   "cell_type": "markdown",
   "metadata": {},
   "source": [
    "Rather than manually experimenting with different classification models like logistic regression and KNN, we can leverage AutoML (Automated Machine Learning) techniques to find the best-performing model for our hotel booking cancellation prediction problem. AutoML automates the process of model selection, hyperparameter tuning, and model evaluation, saving significant time and effort."
   ]
  },
  {
   "cell_type": "markdown",
   "metadata": {},
   "source": [
    "*The cell below is commented out as it takes too long to run. See the following cell for the copied output*"
   ]
  },
  {
   "cell_type": "code",
   "execution_count": null,
   "metadata": {},
   "outputs": [],
   "source": [
    "# from tpot import TPOTClassifier\n",
    "\n",
    "# tpot = TPOTClassifier(generations=5, population_size=20, cv=5, random_state=RANDOM_STATE, verbosity=2)\n",
    "\n",
    "# tpot.fit(X_train, y_train)\n",
    "\n",
    "# tpot.score(X_test, y_test)"
   ]
  },
  {
   "cell_type": "markdown",
   "metadata": {},
   "source": [
    "Output:\n",
    "\n",
    "> Best pipeline: RandomForestClassifier(input_matrix, bootstrap=False, criterion='gini',\n",
    "                       max_features=0.4, min_samples_leaf=5, min_samples_split=10,\n",
    "                       n_estimators=100)"
   ]
  },
  {
   "cell_type": "markdown",
   "metadata": {},
   "source": [
    "Since the Random Forest Classifier pipeline was identified as the most best model, we will examine and evaluate the identified pipeline."
   ]
  },
  {
   "cell_type": "markdown",
   "metadata": {},
   "source": [
    "## Random Forest"
   ]
  },
  {
   "cell_type": "code",
   "execution_count": 23,
   "metadata": {},
   "outputs": [],
   "source": [
    "from sklearn.ensemble import RandomForestClassifier"
   ]
  },
  {
   "cell_type": "code",
   "execution_count": 24,
   "metadata": {},
   "outputs": [],
   "source": [
    "rf_model = RandomForestClassifier(bootstrap=False, criterion='gini',\n",
    "                       max_features=0.4, min_samples_leaf=5, min_samples_split=10,\n",
    "                       n_estimators=100)"
   ]
  },
  {
   "cell_type": "code",
   "execution_count": 25,
   "metadata": {},
   "outputs": [
    {
     "data": {
      "text/html": [
       "<style>#sk-container-id-2 {color: black;}#sk-container-id-2 pre{padding: 0;}#sk-container-id-2 div.sk-toggleable {background-color: white;}#sk-container-id-2 label.sk-toggleable__label {cursor: pointer;display: block;width: 100%;margin-bottom: 0;padding: 0.3em;box-sizing: border-box;text-align: center;}#sk-container-id-2 label.sk-toggleable__label-arrow:before {content: \"▸\";float: left;margin-right: 0.25em;color: #696969;}#sk-container-id-2 label.sk-toggleable__label-arrow:hover:before {color: black;}#sk-container-id-2 div.sk-estimator:hover label.sk-toggleable__label-arrow:before {color: black;}#sk-container-id-2 div.sk-toggleable__content {max-height: 0;max-width: 0;overflow: hidden;text-align: left;background-color: #f0f8ff;}#sk-container-id-2 div.sk-toggleable__content pre {margin: 0.2em;color: black;border-radius: 0.25em;background-color: #f0f8ff;}#sk-container-id-2 input.sk-toggleable__control:checked~div.sk-toggleable__content {max-height: 200px;max-width: 100%;overflow: auto;}#sk-container-id-2 input.sk-toggleable__control:checked~label.sk-toggleable__label-arrow:before {content: \"▾\";}#sk-container-id-2 div.sk-estimator input.sk-toggleable__control:checked~label.sk-toggleable__label {background-color: #d4ebff;}#sk-container-id-2 div.sk-label input.sk-toggleable__control:checked~label.sk-toggleable__label {background-color: #d4ebff;}#sk-container-id-2 input.sk-hidden--visually {border: 0;clip: rect(1px 1px 1px 1px);clip: rect(1px, 1px, 1px, 1px);height: 1px;margin: -1px;overflow: hidden;padding: 0;position: absolute;width: 1px;}#sk-container-id-2 div.sk-estimator {font-family: monospace;background-color: #f0f8ff;border: 1px dotted black;border-radius: 0.25em;box-sizing: border-box;margin-bottom: 0.5em;}#sk-container-id-2 div.sk-estimator:hover {background-color: #d4ebff;}#sk-container-id-2 div.sk-parallel-item::after {content: \"\";width: 100%;border-bottom: 1px solid gray;flex-grow: 1;}#sk-container-id-2 div.sk-label:hover label.sk-toggleable__label {background-color: #d4ebff;}#sk-container-id-2 div.sk-serial::before {content: \"\";position: absolute;border-left: 1px solid gray;box-sizing: border-box;top: 0;bottom: 0;left: 50%;z-index: 0;}#sk-container-id-2 div.sk-serial {display: flex;flex-direction: column;align-items: center;background-color: white;padding-right: 0.2em;padding-left: 0.2em;position: relative;}#sk-container-id-2 div.sk-item {position: relative;z-index: 1;}#sk-container-id-2 div.sk-parallel {display: flex;align-items: stretch;justify-content: center;background-color: white;position: relative;}#sk-container-id-2 div.sk-item::before, #sk-container-id-2 div.sk-parallel-item::before {content: \"\";position: absolute;border-left: 1px solid gray;box-sizing: border-box;top: 0;bottom: 0;left: 50%;z-index: -1;}#sk-container-id-2 div.sk-parallel-item {display: flex;flex-direction: column;z-index: 1;position: relative;background-color: white;}#sk-container-id-2 div.sk-parallel-item:first-child::after {align-self: flex-end;width: 50%;}#sk-container-id-2 div.sk-parallel-item:last-child::after {align-self: flex-start;width: 50%;}#sk-container-id-2 div.sk-parallel-item:only-child::after {width: 0;}#sk-container-id-2 div.sk-dashed-wrapped {border: 1px dashed gray;margin: 0 0.4em 0.5em 0.4em;box-sizing: border-box;padding-bottom: 0.4em;background-color: white;}#sk-container-id-2 div.sk-label label {font-family: monospace;font-weight: bold;display: inline-block;line-height: 1.2em;}#sk-container-id-2 div.sk-label-container {text-align: center;}#sk-container-id-2 div.sk-container {/* jupyter's `normalize.less` sets `[hidden] { display: none; }` but bootstrap.min.css set `[hidden] { display: none !important; }` so we also need the `!important` here to be able to override the default hidden behavior on the sphinx rendered scikit-learn.org. See: https://github.com/scikit-learn/scikit-learn/issues/21755 */display: inline-block !important;position: relative;}#sk-container-id-2 div.sk-text-repr-fallback {display: none;}</style><div id=\"sk-container-id-2\" class=\"sk-top-container\"><div class=\"sk-text-repr-fallback\"><pre>RandomForestClassifier(bootstrap=False, max_features=0.4, min_samples_leaf=5,\n",
       "                       min_samples_split=10)</pre><b>In a Jupyter environment, please rerun this cell to show the HTML representation or trust the notebook. <br />On GitHub, the HTML representation is unable to render, please try loading this page with nbviewer.org.</b></div><div class=\"sk-container\" hidden><div class=\"sk-item\"><div class=\"sk-estimator sk-toggleable\"><input class=\"sk-toggleable__control sk-hidden--visually\" id=\"sk-estimator-id-2\" type=\"checkbox\" checked><label for=\"sk-estimator-id-2\" class=\"sk-toggleable__label sk-toggleable__label-arrow\">RandomForestClassifier</label><div class=\"sk-toggleable__content\"><pre>RandomForestClassifier(bootstrap=False, max_features=0.4, min_samples_leaf=5,\n",
       "                       min_samples_split=10)</pre></div></div></div></div></div>"
      ],
      "text/plain": [
       "RandomForestClassifier(bootstrap=False, max_features=0.4, min_samples_leaf=5,\n",
       "                       min_samples_split=10)"
      ]
     },
     "execution_count": 25,
     "metadata": {},
     "output_type": "execute_result"
    }
   ],
   "source": [
    "rf_model.fit(X_train, y_train)"
   ]
  },
  {
   "cell_type": "code",
   "execution_count": 26,
   "metadata": {},
   "outputs": [],
   "source": [
    "# Predict on the test set\n",
    "rf_y_pred = rf_model.predict(X_test)"
   ]
  },
  {
   "cell_type": "markdown",
   "metadata": {},
   "source": [
    "### Evaluation"
   ]
  },
  {
   "cell_type": "code",
   "execution_count": 27,
   "metadata": {},
   "outputs": [
    {
     "data": {
      "text/plain": [
       "<Axes: >"
      ]
     },
     "execution_count": 27,
     "metadata": {},
     "output_type": "execute_result"
    },
    {
     "data": {
      "image/png": "[encoded data removed]",
      "text/plain": [
       "<Figure size 640x480 with 2 Axes>"
      ]
     },
     "metadata": {},
     "output_type": "display_data"
    }
   ],
   "source": [
    "rf_confusion_matrix = confusion_matrix(y_test, rf_y_pred)\n",
    "\n",
    "sb.heatmap(rf_confusion_matrix, annot=True, fmt=\".0f\", annot_kws={\"size\": 18})"
   ]
  },
  {
   "cell_type": "code",
   "execution_count": 28,
   "metadata": {},
   "outputs": [
    {
     "data": {
      "text/html": [
       "<div>\n",
       "<style scoped>\n",
       "    .dataframe tbody tr th:only-of-type {\n",
       "        vertical-align: middle;\n",
       "    }\n",
       "\n",
       "    .dataframe tbody tr th {\n",
       "        vertical-align: top;\n",
       "    }\n",
       "\n",
       "    .dataframe thead th {\n",
       "        text-align: right;\n",
       "    }\n",
       "</style>\n",
       "<table border=\"1\" class=\"dataframe\">\n",
       "  <thead>\n",
       "    <tr style=\"text-align: right;\">\n",
       "      <th></th>\n",
       "      <th>Model</th>\n",
       "      <th>Accuracy Score</th>\n",
       "      <th>F1 score</th>\n",
       "      <th>Precision</th>\n",
       "      <th>Recall</th>\n",
       "    </tr>\n",
       "  </thead>\n",
       "  <tbody>\n",
       "    <tr>\n",
       "      <th>0</th>\n",
       "      <td>Random Forest</td>\n",
       "      <td>0.90032</td>\n",
       "      <td>0.927552</td>\n",
       "      <td>0.908905</td>\n",
       "      <td>0.946981</td>\n",
       "    </tr>\n",
       "  </tbody>\n",
       "</table>\n",
       "</div>"
      ],
      "text/plain": [
       "           Model  Accuracy Score  F1 score  Precision    Recall\n",
       "0  Random Forest         0.90032  0.927552   0.908905  0.946981"
      ]
     },
     "execution_count": 28,
     "metadata": {},
     "output_type": "execute_result"
    }
   ],
   "source": [
    "rf_results = evaluate_model('Random Forest', y_test, rf_y_pred)\n",
    "\n",
    "rf_results"
   ]
  },
  {
   "cell_type": "markdown",
   "metadata": {},
   "source": [
    "### Discussion"
   ]
  },
  {
   "cell_type": "markdown",
   "metadata": {},
   "source": [
    "The Random Forest model achieved significantly higher accuracy of 0.901, outperforming KNN (0.804) and Logistic Regression (0.794), indicating lower overall error rate.\n",
    "\n",
    "Its F1 score of 0.841 is considerably better than KNN (0.676) and Logistic Regression (0.651), demonstrating a better balance between precision and recall.\n",
    "\n",
    "With a precision of 0.883, the Random Forest model has a lower rate of false positives compared to KNN (0.734) and Logistic Regression (0.729), which is crucial for efficient resource allocation.\n",
    "\n",
    "The Random Forest model's recall of 0.803 is substantially higher than KNN (0.627) and Logistic Regression (0.588), indicating better detection of true positive instances, leading to increased revenue potential.\n",
    "\n",
    "Overall, the Random Forest model's exceptional performance across all evaluation metrics, including its ability to capture complex patterns and non-linear relationships, makes it a compelling choice for this classification task."
   ]
  },
  {
   "cell_type": "markdown",
   "metadata": {},
   "source": [
    "## Neural Network"
   ]
  },
  {
   "cell_type": "code",
   "execution_count": 29,
   "metadata": {},
   "outputs": [],
   "source": [
    "def visualize_training_history(history):\n",
    "    \"\"\"\n",
    "    Creates a visualization of model's training process that contains:\n",
    "        - Loss\n",
    "        - Accuracy\n",
    "        - Precision\n",
    "        - Recall\n",
    "    \"\"\"\n",
    "    f, ax = plt.subplots(nrows=2, ncols=2, figsize=(14, 12))\n",
    "    f.suptitle('Training History', fontweight='bold', fontsize='x-large')\n",
    "\n",
    "    ax[0][0].plot(history.history['loss'], label='Loss')\n",
    "    ax[0][0].set_title('Loss History')\n",
    "    ax[0][0].set(ylabel='Loss', xlabel='Number of Epochs')\n",
    "    ax[0][0].legend(loc=\"upper right\")\n",
    "\n",
    "    ax[0][1].plot(history.history['accuracy'], label='Accuracy')\n",
    "    ax[0][1].set_title('Accuracy History')\n",
    "    ax[0][1].set(ylabel='Loss', xlabel='Number of Epochs')\n",
    "    ax[0][1].legend(loc=\"lower right\")\n",
    "\n",
    "    ax[1][0].plot(history.history['precision'], label='Precision')\n",
    "    ax[1][0].set_title('Precision History')\n",
    "    ax[1][0].set(ylabel='Precision', xlabel='Number of Epochs')\n",
    "    ax[1][0].legend(loc=\"lower right\")\n",
    "\n",
    "    ax[1][1].plot(history.history['recall'], label='Recall')\n",
    "    ax[1][1].set_title('Recall History')\n",
    "    ax[1][1].set(ylabel='Precision', xlabel='Number of Epochs')\n",
    "    ax[1][1].legend(loc=\"lower right\")"
   ]
  },
  {
   "cell_type": "code",
   "execution_count": 30,
   "metadata": {},
   "outputs": [
    {
     "name": "stdout",
     "output_type": "stream",
     "text": [
      "Model: \"sequential\"\n",
      "_________________________________________________________________\n",
      " Layer (type)                Output Shape              Param #   \n",
      "=================================================================\n",
      " dense (Dense)               (None, 64)                1152      \n",
      "                                                                 \n",
      " dense_1 (Dense)             (None, 32)                2080      \n",
      "                                                                 \n",
      " dense_2 (Dense)             (None, 1)                 33        \n",
      "                                                                 \n",
      "=================================================================\n",
      "Total params: 3,265\n",
      "Trainable params: 3,265\n",
      "Non-trainable params: 0\n",
      "_________________________________________________________________\n"
     ]
    }
   ],
   "source": [
    "from tensorflow.keras.models import Sequential\n",
    "from tensorflow.keras.layers import Dense\n",
    "from tensorflow.keras.metrics import Precision, Recall\n",
    "\n",
    "# Define the model\n",
    "model = Sequential([\n",
    "    Dense(64, activation='relu', input_shape=(X_train.shape[1],)),\n",
    "    Dense(32, activation='relu'),\n",
    "    Dense(1, activation='sigmoid')\n",
    "])\n",
    "\n",
    "# Compile the model\n",
    "model.compile(optimizer='adam',\n",
    "              loss='binary_crossentropy',\n",
    "              metrics=['accuracy', Precision(name='precision'), Recall(name='recall')])\n",
    "\n",
    "model.summary()"
   ]
  },
  {
   "cell_type": "code",
   "execution_count": 31,
   "metadata": {},
   "outputs": [
    {
     "name": "stdout",
     "output_type": "stream",
     "text": [
      "Epoch 1/10\n"
     ]
    },
    {
     "name": "stderr",
     "output_type": "stream",
     "text": [
      "2024-04-23 18:54:16.968734: W tensorflow/tsl/platform/profile_utils/cpu_utils.cc:128] Failed to get CPU frequency: 0 Hz\n"
     ]
    },
    {
     "name": "stdout",
     "output_type": "stream",
     "text": [
      "851/851 [==============================] - 1s 764us/step - loss: 1.0337 - accuracy: 0.6962 - precision: 0.7655 - recall: 0.7899 - val_loss: 0.5089 - val_accuracy: 0.7797 - val_precision: 0.7941 - val_recall: 0.9087\n",
      "Epoch 2/10\n",
      "851/851 [==============================] - 1s 637us/step - loss: 0.7472 - accuracy: 0.7200 - precision: 0.7808 - recall: 0.8110 - val_loss: 0.5784 - val_accuracy: 0.7592 - val_precision: 0.7458 - val_recall: 0.9750\n",
      "Epoch 3/10\n",
      "851/851 [==============================] - 1s 618us/step - loss: 0.7589 - accuracy: 0.7201 - precision: 0.7818 - recall: 0.8093 - val_loss: 0.6349 - val_accuracy: 0.7681 - val_precision: 0.7546 - val_recall: 0.9719\n",
      "Epoch 4/10\n",
      "851/851 [==============================] - 1s 619us/step - loss: 0.7132 - accuracy: 0.7263 - precision: 0.7863 - recall: 0.8139 - val_loss: 1.1400 - val_accuracy: 0.7032 - val_precision: 0.6953 - val_recall: 0.9959\n",
      "Epoch 5/10\n",
      "851/851 [==============================] - 1s 621us/step - loss: 0.6483 - accuracy: 0.7374 - precision: 0.7931 - recall: 0.8242 - val_loss: 0.5035 - val_accuracy: 0.7811 - val_precision: 0.8142 - val_recall: 0.8748\n",
      "Epoch 6/10\n",
      "851/851 [==============================] - 1s 617us/step - loss: 0.6290 - accuracy: 0.7430 - precision: 0.7973 - recall: 0.8281 - val_loss: 0.7192 - val_accuracy: 0.7719 - val_precision: 0.7663 - val_recall: 0.9517\n",
      "Epoch 7/10\n",
      "851/851 [==============================] - 1s 620us/step - loss: 0.6222 - accuracy: 0.7435 - precision: 0.7966 - recall: 0.8303 - val_loss: 1.2443 - val_accuracy: 0.7022 - val_precision: 0.6946 - val_recall: 0.9957\n",
      "Epoch 8/10\n",
      "851/851 [==============================] - 1s 617us/step - loss: 0.6592 - accuracy: 0.7391 - precision: 0.7957 - recall: 0.8229 - val_loss: 0.4557 - val_accuracy: 0.7933 - val_precision: 0.8580 - val_recall: 0.8306\n",
      "Epoch 9/10\n",
      "851/851 [==============================] - 1s 616us/step - loss: 0.6186 - accuracy: 0.7459 - precision: 0.7979 - recall: 0.8326 - val_loss: 0.4367 - val_accuracy: 0.7985 - val_precision: 0.8137 - val_recall: 0.9092\n",
      "Epoch 10/10\n",
      "851/851 [==============================] - 1s 616us/step - loss: 0.5739 - accuracy: 0.7544 - precision: 0.8029 - recall: 0.8409 - val_loss: 0.4849 - val_accuracy: 0.7705 - val_precision: 0.8512 - val_recall: 0.7992\n"
     ]
    }
   ],
   "source": [
    "# Train the model\n",
    "history = model.fit(X_train, y_train, epochs=10, batch_size=32, validation_data=(X_test, y_test))"
   ]
  },
  {
   "cell_type": "code",
   "execution_count": 32,
   "metadata": {},
   "outputs": [
    {
     "data": {
      "image/png": "[encoded data removed]",
      "text/plain": [
       "<Figure size 1400x1200 with 4 Axes>"
      ]
     },
     "metadata": {},
     "output_type": "display_data"
    }
   ],
   "source": [
    "visualize_training_history(history)"
   ]
  },
  {
   "cell_type": "markdown",
   "metadata": {},
   "source": [
    "### Evaluation"
   ]
  },
  {
   "cell_type": "code",
   "execution_count": 33,
   "metadata": {},
   "outputs": [
    {
     "data": {
      "text/plain": [
       "[0.4848760962486267,\n",
       " 0.7705370187759399,\n",
       " 0.8511676788330078,\n",
       " 0.7992145419120789]"
      ]
     },
     "execution_count": 33,
     "metadata": {},
     "output_type": "execute_result"
    }
   ],
   "source": [
    "model.evaluate(X_test, y_test, verbose=0)"
   ]
  },
  {
   "cell_type": "code",
   "execution_count": 34,
   "metadata": {},
   "outputs": [
    {
     "name": "stdout",
     "output_type": "stream",
     "text": [
      "284/284 [==============================] - 0s 289us/step\n"
     ]
    }
   ],
   "source": [
    "nn_y_pred = (model.predict(X_test) >= 0.5).astype('int64')"
   ]
  },
  {
   "cell_type": "code",
   "execution_count": 35,
   "metadata": {},
   "outputs": [
    {
     "data": {
      "text/html": [
       "<div>\n",
       "<style scoped>\n",
       "    .dataframe tbody tr th:only-of-type {\n",
       "        vertical-align: middle;\n",
       "    }\n",
       "\n",
       "    .dataframe tbody tr th {\n",
       "        vertical-align: top;\n",
       "    }\n",
       "\n",
       "    .dataframe thead th {\n",
       "        text-align: right;\n",
       "    }\n",
       "</style>\n",
       "<table border=\"1\" class=\"dataframe\">\n",
       "  <thead>\n",
       "    <tr style=\"text-align: right;\">\n",
       "      <th></th>\n",
       "      <th>Model</th>\n",
       "      <th>Accuracy Score</th>\n",
       "      <th>F1 score</th>\n",
       "      <th>Precision</th>\n",
       "      <th>Recall</th>\n",
       "    </tr>\n",
       "  </thead>\n",
       "  <tbody>\n",
       "    <tr>\n",
       "      <th>0</th>\n",
       "      <td>Neural Network</td>\n",
       "      <td>0.770537</td>\n",
       "      <td>0.824373</td>\n",
       "      <td>0.851168</td>\n",
       "      <td>0.799215</td>\n",
       "    </tr>\n",
       "  </tbody>\n",
       "</table>\n",
       "</div>"
      ],
      "text/plain": [
       "            Model  Accuracy Score  F1 score  Precision    Recall\n",
       "0  Neural Network        0.770537  0.824373   0.851168  0.799215"
      ]
     },
     "execution_count": 35,
     "metadata": {},
     "output_type": "execute_result"
    }
   ],
   "source": [
    "nn_results = evaluate_model('Neural Network', y_test, nn_y_pred)\n",
    "\n",
    "nn_results"
   ]
  },
  {
   "cell_type": "markdown",
   "metadata": {},
   "source": [
    "### Discussion"
   ]
  },
  {
   "cell_type": "markdown",
   "metadata": {},
   "source": [
    "## Results"
   ]
  },
  {
   "cell_type": "code",
   "execution_count": 36,
   "metadata": {},
   "outputs": [
    {
     "data": {
      "text/html": [
       "<div>\n",
       "<style scoped>\n",
       "    .dataframe tbody tr th:only-of-type {\n",
       "        vertical-align: middle;\n",
       "    }\n",
       "\n",
       "    .dataframe tbody tr th {\n",
       "        vertical-align: top;\n",
       "    }\n",
       "\n",
       "    .dataframe thead th {\n",
       "        text-align: right;\n",
       "    }\n",
       "</style>\n",
       "<table border=\"1\" class=\"dataframe\">\n",
       "  <thead>\n",
       "    <tr style=\"text-align: right;\">\n",
       "      <th></th>\n",
       "      <th>Model</th>\n",
       "      <th>Accuracy Score</th>\n",
       "      <th>F1 score</th>\n",
       "      <th>Precision</th>\n",
       "      <th>Recall</th>\n",
       "    </tr>\n",
       "  </thead>\n",
       "  <tbody>\n",
       "    <tr>\n",
       "      <th>0</th>\n",
       "      <td>Random Forest</td>\n",
       "      <td>0.900320</td>\n",
       "      <td>0.927552</td>\n",
       "      <td>0.908905</td>\n",
       "      <td>0.946981</td>\n",
       "    </tr>\n",
       "    <tr>\n",
       "      <th>0</th>\n",
       "      <td>Logistic Regression</td>\n",
       "      <td>0.806925</td>\n",
       "      <td>0.862526</td>\n",
       "      <td>0.829007</td>\n",
       "      <td>0.898871</td>\n",
       "    </tr>\n",
       "    <tr>\n",
       "      <th>0</th>\n",
       "      <td>K-Nearest Neighbors</td>\n",
       "      <td>0.806814</td>\n",
       "      <td>0.861699</td>\n",
       "      <td>0.832393</td>\n",
       "      <td>0.893144</td>\n",
       "    </tr>\n",
       "    <tr>\n",
       "      <th>0</th>\n",
       "      <td>Neural Network</td>\n",
       "      <td>0.770537</td>\n",
       "      <td>0.824373</td>\n",
       "      <td>0.851168</td>\n",
       "      <td>0.799215</td>\n",
       "    </tr>\n",
       "  </tbody>\n",
       "</table>\n",
       "</div>"
      ],
      "text/plain": [
       "                 Model  Accuracy Score  F1 score  Precision    Recall\n",
       "0        Random Forest        0.900320  0.927552   0.908905  0.946981\n",
       "0  Logistic Regression        0.806925  0.862526   0.829007  0.898871\n",
       "0  K-Nearest Neighbors        0.806814  0.861699   0.832393  0.893144\n",
       "0       Neural Network        0.770537  0.824373   0.851168  0.799215"
      ]
     },
     "execution_count": 36,
     "metadata": {},
     "output_type": "execute_result"
    }
   ],
   "source": [
    "results = pd.concat([lr_results, knn_results, rf_results, nn_results])\n",
    "results_sorted = results.sort_values(by='Accuracy Score', ascending=False)\n",
    "results_sorted"
   ]
  }
 ],
 "metadata": {
  "kernelspec": {
   "display_name": "base",
   "language": "python",
   "name": "python3"
  },
  "language_info": {
   "codemirror_mode": {
    "name": "ipython",
    "version": 3
   },
   "file_extension": ".py",
   "mimetype": "text/x-python",
   "name": "python",
   "nbconvert_exporter": "python",
   "pygments_lexer": "ipython3",
   "version": "3.10.8"
  }
 },
 "nbformat": 4,
 "nbformat_minor": 2
}
